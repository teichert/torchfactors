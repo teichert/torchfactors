{
 "cells": [
  {
   "cell_type": "code",
   "execution_count": 199,
   "metadata": {},
   "outputs": [
    {
     "name": "stdout",
     "output_type": "stream",
     "text": [
      "Requirement already satisfied: datasets in /home/adam/.cache/pypoetry/virtualenvs/torchfactors-agsvsqrc-py3.8/lib/python3.8/site-packages (1.17.0)\n",
      "Requirement already satisfied: ipywidgets in /home/adam/.cache/pypoetry/virtualenvs/torchfactors-agsvsqrc-py3.8/lib/python3.8/site-packages (7.6.5)\n",
      "Requirement already satisfied: jupyter in /home/adam/.cache/pypoetry/virtualenvs/torchfactors-agsvsqrc-py3.8/lib/python3.8/site-packages (1.0.0)\n",
      "Requirement already satisfied: Pillow in /home/adam/.cache/pypoetry/virtualenvs/torchfactors-agsvsqrc-py3.8/lib/python3.8/site-packages (9.0.0)\n",
      "Requirement already satisfied: ipykernel in /home/adam/.cache/pypoetry/virtualenvs/torchfactors-agsvsqrc-py3.8/lib/python3.8/site-packages (6.6.1)\n",
      "Requirement already satisfied: torchvision in /home/adam/.cache/pypoetry/virtualenvs/torchfactors-agsvsqrc-py3.8/lib/python3.8/site-packages (0.11.2)\n",
      "Requirement already satisfied: matplotlib in /home/adam/.cache/pypoetry/virtualenvs/torchfactors-agsvsqrc-py3.8/lib/python3.8/site-packages (3.5.1)\n",
      "Requirement already satisfied: requests>=2.19.0 in /home/adam/.cache/pypoetry/virtualenvs/torchfactors-agsvsqrc-py3.8/lib/python3.8/site-packages (from datasets) (2.27.0)\n",
      "Requirement already satisfied: dill in /home/adam/.cache/pypoetry/virtualenvs/torchfactors-agsvsqrc-py3.8/lib/python3.8/site-packages (from datasets) (0.3.4)\n",
      "Requirement already satisfied: pandas in /home/adam/.cache/pypoetry/virtualenvs/torchfactors-agsvsqrc-py3.8/lib/python3.8/site-packages (from datasets) (1.3.5)\n",
      "Requirement already satisfied: xxhash in /home/adam/.cache/pypoetry/virtualenvs/torchfactors-agsvsqrc-py3.8/lib/python3.8/site-packages (from datasets) (2.0.2)\n",
      "Requirement already satisfied: fsspec[http]>=2021.05.0 in /home/adam/.cache/pypoetry/virtualenvs/torchfactors-agsvsqrc-py3.8/lib/python3.8/site-packages (from datasets) (2021.11.1)\n",
      "Requirement already satisfied: huggingface-hub<1.0.0,>=0.1.0 in /home/adam/.cache/pypoetry/virtualenvs/torchfactors-agsvsqrc-py3.8/lib/python3.8/site-packages (from datasets) (0.2.1)\n",
      "Requirement already satisfied: pyarrow!=4.0.0,>=3.0.0 in /home/adam/.cache/pypoetry/virtualenvs/torchfactors-agsvsqrc-py3.8/lib/python3.8/site-packages (from datasets) (6.0.1)\n",
      "Requirement already satisfied: aiohttp in /home/adam/.cache/pypoetry/virtualenvs/torchfactors-agsvsqrc-py3.8/lib/python3.8/site-packages (from datasets) (3.8.1)\n",
      "Requirement already satisfied: multiprocess in /home/adam/.cache/pypoetry/virtualenvs/torchfactors-agsvsqrc-py3.8/lib/python3.8/site-packages (from datasets) (0.70.12.2)\n",
      "Requirement already satisfied: packaging in /home/adam/.cache/pypoetry/virtualenvs/torchfactors-agsvsqrc-py3.8/lib/python3.8/site-packages (from datasets) (21.3)\n",
      "Requirement already satisfied: numpy>=1.17 in /home/adam/.cache/pypoetry/virtualenvs/torchfactors-agsvsqrc-py3.8/lib/python3.8/site-packages (from datasets) (1.22.0)\n",
      "Requirement already satisfied: tqdm>=4.62.1 in /home/adam/.cache/pypoetry/virtualenvs/torchfactors-agsvsqrc-py3.8/lib/python3.8/site-packages (from datasets) (4.62.3)\n",
      "Requirement already satisfied: ipython-genutils~=0.2.0 in /home/adam/.cache/pypoetry/virtualenvs/torchfactors-agsvsqrc-py3.8/lib/python3.8/site-packages (from ipywidgets) (0.2.0)\n",
      "Requirement already satisfied: nbformat>=4.2.0 in /home/adam/.cache/pypoetry/virtualenvs/torchfactors-agsvsqrc-py3.8/lib/python3.8/site-packages (from ipywidgets) (5.1.3)\n",
      "Requirement already satisfied: ipython>=4.0.0 in /home/adam/.cache/pypoetry/virtualenvs/torchfactors-agsvsqrc-py3.8/lib/python3.8/site-packages (from ipywidgets) (7.30.1)\n",
      "Requirement already satisfied: widgetsnbextension~=3.5.0 in /home/adam/.cache/pypoetry/virtualenvs/torchfactors-agsvsqrc-py3.8/lib/python3.8/site-packages (from ipywidgets) (3.5.2)\n",
      "Requirement already satisfied: traitlets>=4.3.1 in /home/adam/.cache/pypoetry/virtualenvs/torchfactors-agsvsqrc-py3.8/lib/python3.8/site-packages (from ipywidgets) (5.1.1)\n",
      "Requirement already satisfied: jupyterlab-widgets>=1.0.0 in /home/adam/.cache/pypoetry/virtualenvs/torchfactors-agsvsqrc-py3.8/lib/python3.8/site-packages (from ipywidgets) (1.0.2)\n",
      "Requirement already satisfied: jupyter-console in /home/adam/.cache/pypoetry/virtualenvs/torchfactors-agsvsqrc-py3.8/lib/python3.8/site-packages (from jupyter) (6.4.0)\n",
      "Requirement already satisfied: nbconvert in /home/adam/.cache/pypoetry/virtualenvs/torchfactors-agsvsqrc-py3.8/lib/python3.8/site-packages (from jupyter) (6.4.0)\n",
      "Requirement already satisfied: qtconsole in /home/adam/.cache/pypoetry/virtualenvs/torchfactors-agsvsqrc-py3.8/lib/python3.8/site-packages (from jupyter) (5.2.2)\n",
      "Requirement already satisfied: notebook in /home/adam/.cache/pypoetry/virtualenvs/torchfactors-agsvsqrc-py3.8/lib/python3.8/site-packages (from jupyter) (6.4.6)\n",
      "Requirement already satisfied: nest-asyncio in /home/adam/.cache/pypoetry/virtualenvs/torchfactors-agsvsqrc-py3.8/lib/python3.8/site-packages (from ipykernel) (1.5.4)\n",
      "Requirement already satisfied: jupyter-client<8.0 in /home/adam/.cache/pypoetry/virtualenvs/torchfactors-agsvsqrc-py3.8/lib/python3.8/site-packages (from ipykernel) (7.1.0)\n",
      "Requirement already satisfied: matplotlib-inline<0.2.0,>=0.1.0 in /home/adam/.cache/pypoetry/virtualenvs/torchfactors-agsvsqrc-py3.8/lib/python3.8/site-packages (from ipykernel) (0.1.3)\n",
      "Requirement already satisfied: debugpy<2.0,>=1.0.0 in /home/adam/.cache/pypoetry/virtualenvs/torchfactors-agsvsqrc-py3.8/lib/python3.8/site-packages (from ipykernel) (1.5.1)\n",
      "Requirement already satisfied: tornado<7.0,>=4.2 in /home/adam/.cache/pypoetry/virtualenvs/torchfactors-agsvsqrc-py3.8/lib/python3.8/site-packages (from ipykernel) (6.1)\n",
      "Requirement already satisfied: torch==1.10.1 in /home/adam/.cache/pypoetry/virtualenvs/torchfactors-agsvsqrc-py3.8/lib/python3.8/site-packages (from torchvision) (1.10.1)\n",
      "Requirement already satisfied: typing-extensions in /home/adam/.cache/pypoetry/virtualenvs/torchfactors-agsvsqrc-py3.8/lib/python3.8/site-packages (from torch==1.10.1->torchvision) (4.0.1)\n",
      "Requirement already satisfied: fonttools>=4.22.0 in /home/adam/.cache/pypoetry/virtualenvs/torchfactors-agsvsqrc-py3.8/lib/python3.8/site-packages (from matplotlib) (4.28.5)\n",
      "Requirement already satisfied: kiwisolver>=1.0.1 in /home/adam/.cache/pypoetry/virtualenvs/torchfactors-agsvsqrc-py3.8/lib/python3.8/site-packages (from matplotlib) (1.3.2)\n",
      "Requirement already satisfied: python-dateutil>=2.7 in /home/adam/.cache/pypoetry/virtualenvs/torchfactors-agsvsqrc-py3.8/lib/python3.8/site-packages (from matplotlib) (2.8.2)\n",
      "Requirement already satisfied: cycler>=0.10 in /home/adam/.cache/pypoetry/virtualenvs/torchfactors-agsvsqrc-py3.8/lib/python3.8/site-packages (from matplotlib) (0.11.0)\n",
      "Requirement already satisfied: pyparsing>=2.2.1 in /home/adam/.cache/pypoetry/virtualenvs/torchfactors-agsvsqrc-py3.8/lib/python3.8/site-packages (from matplotlib) (3.0.6)\n",
      "Requirement already satisfied: pyyaml in /home/adam/.cache/pypoetry/virtualenvs/torchfactors-agsvsqrc-py3.8/lib/python3.8/site-packages (from huggingface-hub<1.0.0,>=0.1.0->datasets) (6.0)\n",
      "Requirement already satisfied: filelock in /home/adam/.cache/pypoetry/virtualenvs/torchfactors-agsvsqrc-py3.8/lib/python3.8/site-packages (from huggingface-hub<1.0.0,>=0.1.0->datasets) (3.4.2)\n",
      "Requirement already satisfied: pexpect>4.3 in /home/adam/.cache/pypoetry/virtualenvs/torchfactors-agsvsqrc-py3.8/lib/python3.8/site-packages (from ipython>=4.0.0->ipywidgets) (4.8.0)\n",
      "Requirement already satisfied: pygments in /home/adam/.cache/pypoetry/virtualenvs/torchfactors-agsvsqrc-py3.8/lib/python3.8/site-packages (from ipython>=4.0.0->ipywidgets) (2.11.1)\n",
      "Requirement already satisfied: setuptools>=18.5 in /home/adam/.cache/pypoetry/virtualenvs/torchfactors-agsvsqrc-py3.8/lib/python3.8/site-packages (from ipython>=4.0.0->ipywidgets) (56.2.0)\n",
      "Requirement already satisfied: decorator in /home/adam/.cache/pypoetry/virtualenvs/torchfactors-agsvsqrc-py3.8/lib/python3.8/site-packages (from ipython>=4.0.0->ipywidgets) (5.1.0)\n",
      "Requirement already satisfied: prompt-toolkit!=3.0.0,!=3.0.1,<3.1.0,>=2.0.0 in /home/adam/.cache/pypoetry/virtualenvs/torchfactors-agsvsqrc-py3.8/lib/python3.8/site-packages (from ipython>=4.0.0->ipywidgets) (3.0.24)\n",
      "Requirement already satisfied: pickleshare in /home/adam/.cache/pypoetry/virtualenvs/torchfactors-agsvsqrc-py3.8/lib/python3.8/site-packages (from ipython>=4.0.0->ipywidgets) (0.7.5)\n",
      "Requirement already satisfied: backcall in /home/adam/.cache/pypoetry/virtualenvs/torchfactors-agsvsqrc-py3.8/lib/python3.8/site-packages (from ipython>=4.0.0->ipywidgets) (0.2.0)\n",
      "Requirement already satisfied: jedi>=0.16 in /home/adam/.cache/pypoetry/virtualenvs/torchfactors-agsvsqrc-py3.8/lib/python3.8/site-packages (from ipython>=4.0.0->ipywidgets) (0.18.1)\n",
      "Requirement already satisfied: parso<0.9.0,>=0.8.0 in /home/adam/.cache/pypoetry/virtualenvs/torchfactors-agsvsqrc-py3.8/lib/python3.8/site-packages (from jedi>=0.16->ipython>=4.0.0->ipywidgets) (0.8.3)\n",
      "Requirement already satisfied: pyzmq>=13 in /home/adam/.cache/pypoetry/virtualenvs/torchfactors-agsvsqrc-py3.8/lib/python3.8/site-packages (from jupyter-client<8.0->ipykernel) (22.3.0)\n",
      "Requirement already satisfied: entrypoints in /home/adam/.cache/pypoetry/virtualenvs/torchfactors-agsvsqrc-py3.8/lib/python3.8/site-packages (from jupyter-client<8.0->ipykernel) (0.3)\n",
      "Requirement already satisfied: jupyter-core>=4.6.0 in /home/adam/.cache/pypoetry/virtualenvs/torchfactors-agsvsqrc-py3.8/lib/python3.8/site-packages (from jupyter-client<8.0->ipykernel) (4.9.1)\n",
      "Requirement already satisfied: jsonschema!=2.5.0,>=2.4 in /home/adam/.cache/pypoetry/virtualenvs/torchfactors-agsvsqrc-py3.8/lib/python3.8/site-packages (from nbformat>=4.2.0->ipywidgets) (4.3.3)\n",
      "Requirement already satisfied: attrs>=17.4.0 in /home/adam/.cache/pypoetry/virtualenvs/torchfactors-agsvsqrc-py3.8/lib/python3.8/site-packages (from jsonschema!=2.5.0,>=2.4->nbformat>=4.2.0->ipywidgets) (21.4.0)\n",
      "Requirement already satisfied: pyrsistent!=0.17.0,!=0.17.1,!=0.17.2,>=0.14.0 in /home/adam/.cache/pypoetry/virtualenvs/torchfactors-agsvsqrc-py3.8/lib/python3.8/site-packages (from jsonschema!=2.5.0,>=2.4->nbformat>=4.2.0->ipywidgets) (0.18.0)\n",
      "Requirement already satisfied: importlib-resources>=1.4.0 in /home/adam/.cache/pypoetry/virtualenvs/torchfactors-agsvsqrc-py3.8/lib/python3.8/site-packages (from jsonschema!=2.5.0,>=2.4->nbformat>=4.2.0->ipywidgets) (5.4.0)\n",
      "Requirement already satisfied: zipp>=3.1.0 in /home/adam/.cache/pypoetry/virtualenvs/torchfactors-agsvsqrc-py3.8/lib/python3.8/site-packages (from importlib-resources>=1.4.0->jsonschema!=2.5.0,>=2.4->nbformat>=4.2.0->ipywidgets) (3.7.0)\n",
      "Requirement already satisfied: ptyprocess>=0.5 in /home/adam/.cache/pypoetry/virtualenvs/torchfactors-agsvsqrc-py3.8/lib/python3.8/site-packages (from pexpect>4.3->ipython>=4.0.0->ipywidgets) (0.7.0)\n",
      "Requirement already satisfied: wcwidth in /home/adam/.cache/pypoetry/virtualenvs/torchfactors-agsvsqrc-py3.8/lib/python3.8/site-packages (from prompt-toolkit!=3.0.0,!=3.0.1,<3.1.0,>=2.0.0->ipython>=4.0.0->ipywidgets) (0.2.5)\n",
      "Requirement already satisfied: six>=1.5 in /home/adam/.cache/pypoetry/virtualenvs/torchfactors-agsvsqrc-py3.8/lib/python3.8/site-packages (from python-dateutil>=2.7->matplotlib) (1.16.0)\n",
      "Requirement already satisfied: urllib3<1.27,>=1.21.1 in /home/adam/.cache/pypoetry/virtualenvs/torchfactors-agsvsqrc-py3.8/lib/python3.8/site-packages (from requests>=2.19.0->datasets) (1.26.7)\n",
      "Requirement already satisfied: charset-normalizer~=2.0.0 in /home/adam/.cache/pypoetry/virtualenvs/torchfactors-agsvsqrc-py3.8/lib/python3.8/site-packages (from requests>=2.19.0->datasets) (2.0.10)\n",
      "Requirement already satisfied: idna<4,>=2.5 in /home/adam/.cache/pypoetry/virtualenvs/torchfactors-agsvsqrc-py3.8/lib/python3.8/site-packages (from requests>=2.19.0->datasets) (3.3)\n",
      "Requirement already satisfied: certifi>=2017.4.17 in /home/adam/.cache/pypoetry/virtualenvs/torchfactors-agsvsqrc-py3.8/lib/python3.8/site-packages (from requests>=2.19.0->datasets) (2021.10.8)\n",
      "Requirement already satisfied: jinja2 in /home/adam/.cache/pypoetry/virtualenvs/torchfactors-agsvsqrc-py3.8/lib/python3.8/site-packages (from notebook->jupyter) (3.0.3)\n",
      "Requirement already satisfied: Send2Trash>=1.8.0 in /home/adam/.cache/pypoetry/virtualenvs/torchfactors-agsvsqrc-py3.8/lib/python3.8/site-packages (from notebook->jupyter) (1.8.0)\n",
      "Requirement already satisfied: terminado>=0.8.3 in /home/adam/.cache/pypoetry/virtualenvs/torchfactors-agsvsqrc-py3.8/lib/python3.8/site-packages (from notebook->jupyter) (0.12.1)\n",
      "Requirement already satisfied: prometheus-client in /home/adam/.cache/pypoetry/virtualenvs/torchfactors-agsvsqrc-py3.8/lib/python3.8/site-packages (from notebook->jupyter) (0.12.0)\n",
      "Requirement already satisfied: argon2-cffi in /home/adam/.cache/pypoetry/virtualenvs/torchfactors-agsvsqrc-py3.8/lib/python3.8/site-packages (from notebook->jupyter) (21.3.0)\n",
      "Requirement already satisfied: yarl<2.0,>=1.0 in /home/adam/.cache/pypoetry/virtualenvs/torchfactors-agsvsqrc-py3.8/lib/python3.8/site-packages (from aiohttp->datasets) (1.7.2)\n",
      "Requirement already satisfied: aiosignal>=1.1.2 in /home/adam/.cache/pypoetry/virtualenvs/torchfactors-agsvsqrc-py3.8/lib/python3.8/site-packages (from aiohttp->datasets) (1.2.0)\n",
      "Requirement already satisfied: frozenlist>=1.1.1 in /home/adam/.cache/pypoetry/virtualenvs/torchfactors-agsvsqrc-py3.8/lib/python3.8/site-packages (from aiohttp->datasets) (1.2.0)\n",
      "Requirement already satisfied: multidict<7.0,>=4.5 in /home/adam/.cache/pypoetry/virtualenvs/torchfactors-agsvsqrc-py3.8/lib/python3.8/site-packages (from aiohttp->datasets) (5.2.0)\n",
      "Requirement already satisfied: async-timeout<5.0,>=4.0.0a3 in /home/adam/.cache/pypoetry/virtualenvs/torchfactors-agsvsqrc-py3.8/lib/python3.8/site-packages (from aiohttp->datasets) (4.0.2)\n",
      "Requirement already satisfied: argon2-cffi-bindings in /home/adam/.cache/pypoetry/virtualenvs/torchfactors-agsvsqrc-py3.8/lib/python3.8/site-packages (from argon2-cffi->notebook->jupyter) (21.2.0)\n",
      "Requirement already satisfied: cffi>=1.0.1 in /home/adam/.cache/pypoetry/virtualenvs/torchfactors-agsvsqrc-py3.8/lib/python3.8/site-packages (from argon2-cffi-bindings->argon2-cffi->notebook->jupyter) (1.15.0)\n",
      "Requirement already satisfied: pycparser in /home/adam/.cache/pypoetry/virtualenvs/torchfactors-agsvsqrc-py3.8/lib/python3.8/site-packages (from cffi>=1.0.1->argon2-cffi-bindings->argon2-cffi->notebook->jupyter) (2.21)\n",
      "Requirement already satisfied: MarkupSafe>=2.0 in /home/adam/.cache/pypoetry/virtualenvs/torchfactors-agsvsqrc-py3.8/lib/python3.8/site-packages (from jinja2->notebook->jupyter) (2.0.1)\n",
      "Requirement already satisfied: nbclient<0.6.0,>=0.5.0 in /home/adam/.cache/pypoetry/virtualenvs/torchfactors-agsvsqrc-py3.8/lib/python3.8/site-packages (from nbconvert->jupyter) (0.5.9)\n",
      "Requirement already satisfied: testpath in /home/adam/.cache/pypoetry/virtualenvs/torchfactors-agsvsqrc-py3.8/lib/python3.8/site-packages (from nbconvert->jupyter) (0.5.0)\n",
      "Requirement already satisfied: jupyterlab-pygments in /home/adam/.cache/pypoetry/virtualenvs/torchfactors-agsvsqrc-py3.8/lib/python3.8/site-packages (from nbconvert->jupyter) (0.1.2)\n",
      "Requirement already satisfied: bleach in /home/adam/.cache/pypoetry/virtualenvs/torchfactors-agsvsqrc-py3.8/lib/python3.8/site-packages (from nbconvert->jupyter) (4.1.0)\n",
      "Requirement already satisfied: mistune<2,>=0.8.1 in /home/adam/.cache/pypoetry/virtualenvs/torchfactors-agsvsqrc-py3.8/lib/python3.8/site-packages (from nbconvert->jupyter) (0.8.4)\n",
      "Requirement already satisfied: pandocfilters>=1.4.1 in /home/adam/.cache/pypoetry/virtualenvs/torchfactors-agsvsqrc-py3.8/lib/python3.8/site-packages (from nbconvert->jupyter) (1.5.0)\n",
      "Requirement already satisfied: defusedxml in /home/adam/.cache/pypoetry/virtualenvs/torchfactors-agsvsqrc-py3.8/lib/python3.8/site-packages (from nbconvert->jupyter) (0.7.1)\n",
      "Requirement already satisfied: webencodings in /home/adam/.cache/pypoetry/virtualenvs/torchfactors-agsvsqrc-py3.8/lib/python3.8/site-packages (from bleach->nbconvert->jupyter) (0.5.1)\n",
      "Requirement already satisfied: pytz>=2017.3 in /home/adam/.cache/pypoetry/virtualenvs/torchfactors-agsvsqrc-py3.8/lib/python3.8/site-packages (from pandas->datasets) (2021.3)\n",
      "Requirement already satisfied: qtpy in /home/adam/.cache/pypoetry/virtualenvs/torchfactors-agsvsqrc-py3.8/lib/python3.8/site-packages (from qtconsole->jupyter) (2.0.0)\n",
      "\u001b[33mWARNING: You are using pip version 21.2.4; however, version 21.3.1 is available.\n",
      "You should consider upgrading via the '/home/adam/.cache/pypoetry/virtualenvs/torchfactors-agsvsqrc-py3.8/bin/python -m pip install --upgrade pip' command.\u001b[0m\n",
      "Note: you may need to restart the kernel to use updated packages.\n"
     ]
    }
   ],
   "source": [
    "%pip install -U datasets ipywidgets jupyter Pillow ipykernel torchvision matplotlib"
   ]
  },
  {
   "cell_type": "code",
   "execution_count": 200,
   "metadata": {},
   "outputs": [
    {
     "name": "stderr",
     "output_type": "stream",
     "text": [
      "2022-01-06 12:20:16,312 Reusing dataset mnist (/home/adam/.cache/huggingface/datasets/mnist/mnist/1.0.0/4bf7b6955107e5912c4fc84530a4284b4d5cec408474bd86185cfb7c81750003)\n"
     ]
    },
    {
     "data": {
      "application/vnd.jupyter.widget-view+json": {
       "model_id": "3c49561869df4cad9090a694710de253",
       "version_major": 2,
       "version_minor": 0
      },
      "text/plain": [
       "  0%|          | 0/2 [00:00<?, ?it/s]"
      ]
     },
     "metadata": {},
     "output_type": "display_data"
    }
   ],
   "source": [
    "from datasets import load_dataset\n",
    "mnist = load_dataset('mnist')"
   ]
  },
  {
   "cell_type": "code",
   "execution_count": 243,
   "metadata": {},
   "outputs": [],
   "source": [
    "\n",
    "from typing import Iterable\n",
    "import torchfactors as tx\n",
    "import torch\n",
    "from dataclasses import dataclass\n",
    "\n",
    "@dataclass\n",
    "class MNISTExample(tx.Subject):\n",
    "    pixels: tx.Var = tx.VarField(tx.Range(2), tx.OBSERVED)\n",
    "    digit: tx.Var = tx.VarField(tx.Range(10), tx.ANNOTATED)\n",
    "    cols = 28\n",
    "    rows = 28\n",
    "    \n",
    "    @classmethod\n",
    "    def from_lake(cls, example):\n",
    "        return MNISTExample(\n",
    "            pixels=tx.TensorVar(torch.tensor(\n",
    "                # [[int(example['image'].getpixel((x,y)) > 150)\n",
    "                [[float(example['image'].getpixel((x,y)))\n",
    "                # [[int(example['image'].getpixel((x,y)) > 0)\n",
    "                  for x in range(cls.cols)]\n",
    "                 for y in range(cls.rows)])),\n",
    "            digit=tx.TensorVar(torch.tensor(example['label']))\n",
    "        )\n",
    "\n",
    "train_raw = mnist['train']\n",
    "n_full = len(train_raw)\n",
    "n_train = 5000\n",
    "n_dev = 1000\n",
    "n_dev_splits = 5\n",
    "\n",
    "index_ranges = dict(\n",
    "    train=range(n_train),\n",
    "    **{\n",
    "        f'dev{i}': range(end - n_dev, end)\n",
    "        for i, end in enumerate(range(n_full, n_train, -n_dev)[:n_dev_splits])\n",
    "    })\n",
    "\n",
    "subjects = {\n",
    "    name: [MNISTExample.from_lake(train_raw[i]) for i in index_range]\n",
    "    for name, index_range in index_ranges.items()\n",
    "}\n",
    "\n",
    "batches = {\n",
    "    name: tx.Subject.stack(subs)\n",
    "    for name, subs in subjects.items()\n",
    "}\n"
   ]
  },
  {
   "cell_type": "code",
   "execution_count": 259,
   "metadata": {},
   "outputs": [
    {
     "name": "stderr",
     "output_type": "stream",
     "text": [
      "2022-01-06 13:37:48,690 loading...\n",
      "2022-01-06 13:37:48,692 done loading.\n",
      "Subjects...: 100%|██████████| 1/1 [00:00<00:00,  6.07it/s]\n",
      "2022-01-06 13:37:48,863 staring training...\n",
      "100%|██████████| 150/150 [00:19<00:00,  7.78it/s, combo=2.66, i=149, j=0, loss=1.66, penalty=5.93e-8]       \n"
     ]
    }
   ],
   "source": [
    "class CRF(tx.Model[MNISTExample]):\n",
    "    def factors(self, x: MNISTExample) -> Iterable[tx.Factor]:\n",
    "        yield tx.LinearFactor(self.namespace('digit'), x.digit, input=x.pixels.tensor)\n",
    "        # yield tx.LinearFactor(self.namespace('digit'), x.digit, input=torch.cat([x.pixels.tensor, x.pixels.tensor, x.pixels.tensor], -1))\n",
    "        intermediate = self.namespace('features1').module(tx.ShapedLinear, output_shape=(2,), input_shape=x.pixels.tensor.shape[1:])(x.pixels.tensor)\n",
    "        intermediate = self.namespace('relu').module(torch.nn.ReLU)(intermediate)\n",
    "        # intermediate = self.namespace('features2').module(tx.ShapedLinear, output_shape=(20,), input_shape=intermediate.shape[1:])(intermediate)\n",
    "        # intermediate = self.namespace('relu').module(torch.nn.ReLU)(intermediate)\n",
    "        intermediate = self.namespace('features4').module(tx.ShapedLinear, output_shape=(1,), input_shape=intermediate.shape[1:])(intermediate)\n",
    "        intermediate = self.namespace('relu').module(torch.nn.ReLU)(intermediate)\n",
    "        intermediate = self.namespace('features5').module(tx.ShapedLinear, output_shape=(2,), input_shape=intermediate.shape[1:])(intermediate)\n",
    "        yield tx.LinearFactor(self.namespace('digit2'), x.digit, input=intermediate)\n",
    "        # yield tx.LinearFactor(self.namespace('digit'), x.digit)\n",
    "        # for r in range(x.rows):\n",
    "        #     for c in range(x.cols):\n",
    "        #         cell = x.pixels[...,r,c]\n",
    "        #         # yield tx.LinearFactor(self.namespace(f'unigram_{r}_{c}'), cell, x.digit)\n",
    "        #         yield tx.LinearFactor(self.namespace(f'position_{r}_{c}'), cell, input=x.digit.tensor)\n",
    "\n",
    "system = tx.learning.example_fit_model(CRF(), subjects['train'], iterations=150, batch_size=n_train, lr=0.1, weight_decay=10.0)"
   ]
  },
  {
   "cell_type": "code",
   "execution_count": 260,
   "metadata": {},
   "outputs": [
    {
     "name": "stdout",
     "output_type": "stream",
     "text": [
      "{'train': tensor(1.), 'dev0': tensor(0.9140), 'dev1': tensor(0.9270), 'dev2': tensor(0.8680), 'dev3': tensor(0.8680), 'dev4': tensor(0.8710)}\n"
     ]
    }
   ],
   "source": [
    "predictions = {\n",
    "    name: system.predict(batch)\n",
    "    for name, batch in batches.items()\n",
    "}\n",
    "accuracies = {\n",
    "    name: (batches[name].digit.tensor == predictions[name].digit.tensor).float().mean()\n",
    "    for name in predictions\n",
    "}\n",
    "print(accuracies)\n",
    "\n"
   ]
  },
  {
   "cell_type": "code",
   "execution_count": null,
   "metadata": {},
   "outputs": [],
   "source": [
    "# x = next(iter(MNISTExample.data_loader(train_loader, batch_size=n)))\n",
    "# # x.pixels.set_usage(tx.LATENT)\n",
    "# x.digit.set_usage(tx.LATENT)\n",
    "# p_pixels = system.predict(x)\n",
    "# from matplotlib import pyplot as plt\n",
    "# # print(x.digit.tensor)\n",
    "# # print(p_pixels.digit.tensor)\n",
    "# # for i, xi in enumerate(p_pixels.unstack()):\n",
    "# #     print(xi.digit.tensor)\n",
    "#     # plt.figure(i)\n",
    "#     # plt.imshow(xi.pixels.tensor.numpy())\n",
    "# # plt.imshow(p_pixels.pixels.tensor.numpy())"
   ]
  },
  {
   "cell_type": "code",
   "execution_count": null,
   "metadata": {},
   "outputs": [],
   "source": [
    "# # test_data = mnist['test']\n",
    "# # n = len(test_data)\n",
    "# # test_loader = [MNISTExample.from_lake(test_data[i]) for i in range(n)]\n",
    "# test_loader = dev_loader\n",
    "# test_batch = next(iter(MNISTExample.data_loader(test_loader, batch_size=n)))"
   ]
  },
  {
   "cell_type": "code",
   "execution_count": null,
   "metadata": {},
   "outputs": [],
   "source": []
  }
 ],
 "metadata": {
  "interpreter": {
   "hash": "5633c8ec9b3a5d51a0915531b2b1a81c52675e3ac56fb607fef3596f4d9ac200"
  },
  "kernelspec": {
   "display_name": "Python 3.8.10 64-bit ('torchfactors-agsvsqrc-py3.8': poetry)",
   "language": "python",
   "name": "python3"
  },
  "language_info": {
   "codemirror_mode": {
    "name": "ipython",
    "version": 3
   },
   "file_extension": ".py",
   "mimetype": "text/x-python",
   "name": "python",
   "nbconvert_exporter": "python",
   "pygments_lexer": "ipython3",
   "version": "3.8.10"
  },
  "orig_nbformat": 4
 },
 "nbformat": 4,
 "nbformat_minor": 2
}
