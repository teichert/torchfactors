{
 "cells": [
  {
   "cell_type": "code",
   "execution_count": 1,
   "metadata": {},
   "outputs": [
    {
     "name": "stdout",
     "output_type": "stream",
     "text": [
      "Collecting datasets\n",
      "  Downloading datasets-2.2.2-py3-none-any.whl (346 kB)\n",
      "\u001b[2K     \u001b[90m━━━━━━━━━━━━━━━━━━━━━━━━━━━━━━━━━━━━━━━\u001b[0m \u001b[32m346.8/346.8 KB\u001b[0m \u001b[31m3.0 MB/s\u001b[0m eta \u001b[36m0:00:00\u001b[0m00:01\u001b[0m00:01\u001b[0m\n",
      "\u001b[?25hCollecting ipywidgets\n",
      "  Downloading ipywidgets-7.7.0-py2.py3-none-any.whl (123 kB)\n",
      "\u001b[2K     \u001b[90m━━━━━━━━━━━━━━━━━━━━━━━━━━━━━━━━━━━━━━\u001b[0m \u001b[32m123.4/123.4 KB\u001b[0m \u001b[31m10.3 MB/s\u001b[0m eta \u001b[36m0:00:00\u001b[0m\n",
      "\u001b[?25hCollecting jupyter\n",
      "  Downloading jupyter-1.0.0-py2.py3-none-any.whl (2.7 kB)\n",
      "Collecting Pillow\n",
      "  Downloading Pillow-9.1.1-cp310-cp310-manylinux_2_17_x86_64.manylinux2014_x86_64.whl (3.1 MB)\n",
      "\u001b[2K     \u001b[90m━━━━━━━━━━━━━━━━━━━━━━━━━━━━━━━━━━━━━━━━\u001b[0m \u001b[32m3.1/3.1 MB\u001b[0m \u001b[31m27.3 MB/s\u001b[0m eta \u001b[36m0:00:00\u001b[0m00:01\u001b[0m00:01\u001b[0m\n",
      "\u001b[?25hRequirement already satisfied: ipykernel in /home/adam/.cache/pypoetry/virtualenvs/torchfactors-agsvsqrc-py3.10/lib/python3.10/site-packages (5.5.6)\n",
      "Collecting ipykernel\n",
      "  Downloading ipykernel-6.13.0-py3-none-any.whl (131 kB)\n",
      "\u001b[2K     \u001b[90m━━━━━━━━━━━━━━━━━━━━━━━━━━━━━━━━━━━━━━\u001b[0m \u001b[32m131.8/131.8 KB\u001b[0m \u001b[31m13.5 MB/s\u001b[0m eta \u001b[36m0:00:00\u001b[0m\n",
      "\u001b[?25hCollecting torchvision\n",
      "  Downloading torchvision-0.12.0-cp310-cp310-manylinux1_x86_64.whl (21.0 MB)\n",
      "\u001b[2K     \u001b[90m━━━━━━━━━━━━━━━━━━━━━━━━━━━━━━━━━━━━━━━━\u001b[0m \u001b[32m21.0/21.0 MB\u001b[0m \u001b[31m33.6 MB/s\u001b[0m eta \u001b[36m0:00:00\u001b[0m00:01\u001b[0m00:01\u001b[0m\n",
      "\u001b[?25hCollecting matplotlib\n",
      "  Downloading matplotlib-3.5.2-cp310-cp310-manylinux_2_17_x86_64.manylinux2014_x86_64.whl (11.9 MB)\n",
      "\u001b[2K     \u001b[90m━━━━━━━━━━━━━━━━━━━━━━━━━━━━━━━━━━━━━━━━\u001b[0m \u001b[32m0.0/11.9 MB\u001b[0m \u001b[31m110.3 MB/s\u001b[0m eta \u001b[36m0:00:01\u001b[0m\n",
      "\u001b[?25h\u001b[31mERROR: Exception:\n",
      "Traceback (most recent call last):\n",
      "  File \"/home/adam/.cache/pypoetry/virtualenvs/torchfactors-agsvsqrc-py3.10/lib/python3.10/site-packages/pip/_vendor/urllib3/response.py\", line 438, in _error_catcher\n",
      "    yield\n",
      "  File \"/home/adam/.cache/pypoetry/virtualenvs/torchfactors-agsvsqrc-py3.10/lib/python3.10/site-packages/pip/_vendor/urllib3/response.py\", line 519, in read\n",
      "    data = self._fp.read(amt) if not fp_closed else b\"\"\n",
      "  File \"/home/adam/.cache/pypoetry/virtualenvs/torchfactors-agsvsqrc-py3.10/lib/python3.10/site-packages/pip/_vendor/cachecontrol/filewrapper.py\", line 90, in read\n",
      "    data = self.__fp.read(amt)\n",
      "  File \"/usr/lib/python3.10/http/client.py\", line 465, in read\n",
      "    s = self.fp.read(amt)\n",
      "  File \"/usr/lib/python3.10/socket.py\", line 705, in readinto\n",
      "    return self._sock.recv_into(b)\n",
      "  File \"/usr/lib/python3.10/ssl.py\", line 1273, in recv_into\n",
      "    return self.read(nbytes, buffer)\n",
      "  File \"/usr/lib/python3.10/ssl.py\", line 1129, in read\n",
      "    return self._sslobj.read(len, buffer)\n",
      "TimeoutError: The read operation timed out\n",
      "\n",
      "During handling of the above exception, another exception occurred:\n",
      "\n",
      "Traceback (most recent call last):\n",
      "  File \"/home/adam/.cache/pypoetry/virtualenvs/torchfactors-agsvsqrc-py3.10/lib/python3.10/site-packages/pip/_internal/cli/base_command.py\", line 167, in exc_logging_wrapper\n",
      "    status = run_func(*args)\n",
      "  File \"/home/adam/.cache/pypoetry/virtualenvs/torchfactors-agsvsqrc-py3.10/lib/python3.10/site-packages/pip/_internal/cli/req_command.py\", line 205, in wrapper\n",
      "    return func(self, options, args)\n",
      "  File \"/home/adam/.cache/pypoetry/virtualenvs/torchfactors-agsvsqrc-py3.10/lib/python3.10/site-packages/pip/_internal/commands/install.py\", line 339, in run\n",
      "    requirement_set = resolver.resolve(\n",
      "  File \"/home/adam/.cache/pypoetry/virtualenvs/torchfactors-agsvsqrc-py3.10/lib/python3.10/site-packages/pip/_internal/resolution/resolvelib/resolver.py\", line 94, in resolve\n",
      "    result = self._result = resolver.resolve(\n",
      "  File \"/home/adam/.cache/pypoetry/virtualenvs/torchfactors-agsvsqrc-py3.10/lib/python3.10/site-packages/pip/_vendor/resolvelib/resolvers.py\", line 481, in resolve\n",
      "    state = resolution.resolve(requirements, max_rounds=max_rounds)\n",
      "  File \"/home/adam/.cache/pypoetry/virtualenvs/torchfactors-agsvsqrc-py3.10/lib/python3.10/site-packages/pip/_vendor/resolvelib/resolvers.py\", line 348, in resolve\n",
      "    self._add_to_criteria(self.state.criteria, r, parent=None)\n",
      "  File \"/home/adam/.cache/pypoetry/virtualenvs/torchfactors-agsvsqrc-py3.10/lib/python3.10/site-packages/pip/_vendor/resolvelib/resolvers.py\", line 172, in _add_to_criteria\n",
      "    if not criterion.candidates:\n",
      "  File \"/home/adam/.cache/pypoetry/virtualenvs/torchfactors-agsvsqrc-py3.10/lib/python3.10/site-packages/pip/_vendor/resolvelib/structs.py\", line 151, in __bool__\n",
      "    return bool(self._sequence)\n",
      "  File \"/home/adam/.cache/pypoetry/virtualenvs/torchfactors-agsvsqrc-py3.10/lib/python3.10/site-packages/pip/_internal/resolution/resolvelib/found_candidates.py\", line 155, in __bool__\n",
      "    return any(self)\n",
      "  File \"/home/adam/.cache/pypoetry/virtualenvs/torchfactors-agsvsqrc-py3.10/lib/python3.10/site-packages/pip/_internal/resolution/resolvelib/found_candidates.py\", line 143, in <genexpr>\n",
      "    return (c for c in iterator if id(c) not in self._incompatible_ids)\n",
      "  File \"/home/adam/.cache/pypoetry/virtualenvs/torchfactors-agsvsqrc-py3.10/lib/python3.10/site-packages/pip/_internal/resolution/resolvelib/found_candidates.py\", line 47, in _iter_built\n",
      "    candidate = func()\n",
      "  File \"/home/adam/.cache/pypoetry/virtualenvs/torchfactors-agsvsqrc-py3.10/lib/python3.10/site-packages/pip/_internal/resolution/resolvelib/factory.py\", line 215, in _make_candidate_from_link\n",
      "    self._link_candidate_cache[link] = LinkCandidate(\n",
      "  File \"/home/adam/.cache/pypoetry/virtualenvs/torchfactors-agsvsqrc-py3.10/lib/python3.10/site-packages/pip/_internal/resolution/resolvelib/candidates.py\", line 288, in __init__\n",
      "    super().__init__(\n",
      "  File \"/home/adam/.cache/pypoetry/virtualenvs/torchfactors-agsvsqrc-py3.10/lib/python3.10/site-packages/pip/_internal/resolution/resolvelib/candidates.py\", line 158, in __init__\n",
      "    self.dist = self._prepare()\n",
      "  File \"/home/adam/.cache/pypoetry/virtualenvs/torchfactors-agsvsqrc-py3.10/lib/python3.10/site-packages/pip/_internal/resolution/resolvelib/candidates.py\", line 227, in _prepare\n",
      "    dist = self._prepare_distribution()\n",
      "  File \"/home/adam/.cache/pypoetry/virtualenvs/torchfactors-agsvsqrc-py3.10/lib/python3.10/site-packages/pip/_internal/resolution/resolvelib/candidates.py\", line 299, in _prepare_distribution\n",
      "    return preparer.prepare_linked_requirement(self._ireq, parallel_builds=True)\n",
      "  File \"/home/adam/.cache/pypoetry/virtualenvs/torchfactors-agsvsqrc-py3.10/lib/python3.10/site-packages/pip/_internal/operations/prepare.py\", line 487, in prepare_linked_requirement\n",
      "    return self._prepare_linked_requirement(req, parallel_builds)\n",
      "  File \"/home/adam/.cache/pypoetry/virtualenvs/torchfactors-agsvsqrc-py3.10/lib/python3.10/site-packages/pip/_internal/operations/prepare.py\", line 532, in _prepare_linked_requirement\n",
      "    local_file = unpack_url(\n",
      "  File \"/home/adam/.cache/pypoetry/virtualenvs/torchfactors-agsvsqrc-py3.10/lib/python3.10/site-packages/pip/_internal/operations/prepare.py\", line 214, in unpack_url\n",
      "    file = get_http_url(\n",
      "  File \"/home/adam/.cache/pypoetry/virtualenvs/torchfactors-agsvsqrc-py3.10/lib/python3.10/site-packages/pip/_internal/operations/prepare.py\", line 94, in get_http_url\n",
      "    from_path, content_type = download(link, temp_dir.path)\n",
      "  File \"/home/adam/.cache/pypoetry/virtualenvs/torchfactors-agsvsqrc-py3.10/lib/python3.10/site-packages/pip/_internal/network/download.py\", line 146, in __call__\n",
      "    for chunk in chunks:\n",
      "  File \"/home/adam/.cache/pypoetry/virtualenvs/torchfactors-agsvsqrc-py3.10/lib/python3.10/site-packages/pip/_internal/cli/progress_bars.py\", line 304, in _rich_progress_bar\n",
      "    for chunk in iterable:\n",
      "  File \"/home/adam/.cache/pypoetry/virtualenvs/torchfactors-agsvsqrc-py3.10/lib/python3.10/site-packages/pip/_internal/network/utils.py\", line 63, in response_chunks\n",
      "    for chunk in response.raw.stream(\n",
      "  File \"/home/adam/.cache/pypoetry/virtualenvs/torchfactors-agsvsqrc-py3.10/lib/python3.10/site-packages/pip/_vendor/urllib3/response.py\", line 576, in stream\n",
      "    data = self.read(amt=amt, decode_content=decode_content)\n",
      "  File \"/home/adam/.cache/pypoetry/virtualenvs/torchfactors-agsvsqrc-py3.10/lib/python3.10/site-packages/pip/_vendor/urllib3/response.py\", line 512, in read\n",
      "    with self._error_catcher():\n",
      "  File \"/usr/lib/python3.10/contextlib.py\", line 153, in __exit__\n",
      "    self.gen.throw(typ, value, traceback)\n",
      "  File \"/home/adam/.cache/pypoetry/virtualenvs/torchfactors-agsvsqrc-py3.10/lib/python3.10/site-packages/pip/_vendor/urllib3/response.py\", line 443, in _error_catcher\n",
      "    raise ReadTimeoutError(self._pool, None, \"Read timed out.\")\n",
      "pip._vendor.urllib3.exceptions.ReadTimeoutError: HTTPSConnectionPool(host='files.pythonhosted.org', port=443): Read timed out.\u001b[0m\u001b[31m\n",
      "\u001b[0m\u001b[33mWARNING: You are using pip version 22.0.4; however, version 22.1.1 is available.\n",
      "You should consider upgrading via the '/home/adam/.cache/pypoetry/virtualenvs/torchfactors-agsvsqrc-py3.10/bin/python -m pip install --upgrade pip' command.\u001b[0m\u001b[33m\n",
      "\u001b[0mNote: you may need to restart the kernel to use updated packages.\n"
     ]
    }
   ],
   "source": [
    "%pip install -U datasets ipywidgets jupyter Pillow ipykernel torchvision matplotlib"
   ]
  },
  {
   "cell_type": "markdown",
   "metadata": {},
   "source": [
    "## Download the Raw Data"
   ]
  },
  {
   "cell_type": "code",
   "execution_count": 2,
   "metadata": {},
   "outputs": [
    {
     "ename": "ModuleNotFoundError",
     "evalue": "No module named 'datasets'",
     "output_type": "error",
     "traceback": [
      "\u001b[0;31m---------------------------------------------------------------------------\u001b[0m",
      "\u001b[0;31mModuleNotFoundError\u001b[0m                       Traceback (most recent call last)",
      "\u001b[1;32m/home/adam/projects/torchfactors/examples/mnist.ipynb Cell 3'\u001b[0m in \u001b[0;36m<cell line: 1>\u001b[0;34m()\u001b[0m\n\u001b[0;32m----> <a href='vscode-notebook-cell://wsl%2Bubuntu-22.04/home/adam/projects/torchfactors/examples/mnist.ipynb#ch0000002vscode-remote?line=0'>1</a>\u001b[0m \u001b[39mfrom\u001b[39;00m \u001b[39mdatasets\u001b[39;00m \u001b[39mimport\u001b[39;00m load_dataset\n\u001b[1;32m      <a href='vscode-notebook-cell://wsl%2Bubuntu-22.04/home/adam/projects/torchfactors/examples/mnist.ipynb#ch0000002vscode-remote?line=1'>2</a>\u001b[0m mnist \u001b[39m=\u001b[39m load_dataset(\u001b[39m'\u001b[39m\u001b[39mmnist\u001b[39m\u001b[39m'\u001b[39m)\n",
      "\u001b[0;31mModuleNotFoundError\u001b[0m: No module named 'datasets'"
     ]
    }
   ],
   "source": [
    "from datasets import load_dataset\n",
    "mnist = load_dataset('mnist')"
   ]
  },
  {
   "cell_type": "markdown",
   "metadata": {},
   "source": [
    "## Define the Subject and Transform the Raw Data\n",
    "A torchfactors model requires first describing what variables are being modeled.\n",
    "We use the name \"Subject\" to refer to the collections of variables and other\n",
    "information associated with an example instance.\n",
    "\n",
    "It is often convenient to define a method that will create an instance from\n",
    "available raw data and annotations (e.g. the `from_huggin` method below).\n",
    "\n",
    "In this example, our subject is composed of a discrete 10-way variable\n",
    "representing the which digit it is (0-9), and a two-dimensional array of binary\n",
    "variables representing a thresholded maximum pixel value for a corresponding\n",
    "patch of the image.\n",
    "\n",
    "We use the first `n_train` examples as the training_set, and form `n_dev_sets` separate development test sets of size `n_dev` by starting at the end of the available data and working backward (that way the dev sets are consistent regardless of the size of the training set).\n"
   ]
  },
  {
   "cell_type": "code",
   "execution_count": null,
   "metadata": {},
   "outputs": [
    {
     "data": {
      "image/png": "[encoded data removed]",
      "text/plain": [
       "<Figure size 432x288 with 1 Axes>"
      ]
     },
     "metadata": {
      "needs_background": "light"
     },
     "output_type": "display_data"
    },
    {
     "data": {
      "image/png": "[encoded data removed]",
      "text/plain": [
       "<Figure size 432x288 with 1 Axes>"
      ]
     },
     "metadata": {
      "needs_background": "light"
     },
     "output_type": "display_data"
    },
    {
     "data": {
      "image/png": "[encoded data removed]",
      "text/plain": [
       "<Figure size 432x288 with 1 Axes>"
      ]
     },
     "metadata": {
      "needs_background": "light"
     },
     "output_type": "display_data"
    }
   ],
   "source": [
    "\n",
    "from typing import Iterable\n",
    "import torchfactors as tx\n",
    "import torch\n",
    "from dataclasses import dataclass\n",
    "\n",
    "@dataclass\n",
    "class MNISTExample(tx.Subject):\n",
    "    pixels: tx.Var = tx.VarField(tx.Range(2), tx.OBSERVED)\n",
    "    digit: tx.Var = tx.VarField(tx.Range(10), tx.ANNOTATED)\n",
    "    \n",
    "    @classmethod\n",
    "    def from_huggin(cls, example, row_scale=1, col_scale=1, threshold=125):\n",
    "        cols, rows = example['image'].size\n",
    "        pixels = torch.tensor(\n",
    "                [[float(example['image'].getpixel((c,r)))\n",
    "                  for c in range(cols)]\n",
    "                 for r in range(rows)])\n",
    "        scaled = torch.tensor(\n",
    "                [[pixels[(r-row_scale):r, (c-col_scale):c].max()\n",
    "                   for c in range(col_scale, cols+1, col_scale)]\n",
    "                  for r in range(row_scale, rows+1, row_scale)]).float()\n",
    "        return MNISTExample(\n",
    "            pixels=tx.TensorVar((scaled >= threshold).int()),\n",
    "            digit=tx.TensorVar(torch.tensor(example['label']))\n",
    "        )\n",
    "\n",
    "# create subject instances from raw data\n",
    "train_raw = mnist['train']\n",
    "n_full = len(train_raw)\n",
    "n_train = 5000\n",
    "n_dev = 5000\n",
    "n_dev_splits = 5\n",
    "scale = 9\n",
    "\n",
    "index_ranges = dict(\n",
    "    train=range(n_train),\n",
    "    **{\n",
    "        f'dev{i}': range(end - n_dev, end)\n",
    "        for i, end in enumerate(range(n_full, n_train, -n_dev)[:n_dev_splits])\n",
    "    })\n",
    "\n",
    "subjects = {\n",
    "    name: [MNISTExample.from_huggin(train_raw[i], row_scale=scale, col_scale=scale) for i in index_range]\n",
    "    for name, index_range in index_ranges.items()\n",
    "}\n",
    "\n",
    "# display some examples\n",
    "num_examples_to_show = 3\n",
    "\n",
    "from matplotlib import pyplot as plt\n",
    "\n",
    "for i, xi in enumerate(subjects['train'][:num_examples_to_show]):\n",
    "    plt.figure(i)\n",
    "    plt.title(f'{int(xi.digit.tensor)}')\n",
    "    plt.imshow(xi.pixels.tensor.numpy())\n",
    "\n",
    "batches = {\n",
    "    name: tx.Subject.stack(subs)\n",
    "    for name, subs in subjects.items()\n",
    "}\n"
   ]
  },
  {
   "cell_type": "markdown",
   "metadata": {},
   "source": [
    "# Defining the Model\n",
    "The model (family) is described as a class (specialized for the specified type\n",
    "of Subject) that will hold all relevant parameters and defines a method that\n",
    "generates factors given an instance of the subject type. The method may also\n",
    "create additional latent variables.\n",
    "\n"
   ]
  },
  {
   "cell_type": "code",
   "execution_count": null,
   "metadata": {},
   "outputs": [
    {
     "name": "stderr",
     "output_type": "stream",
     "text": [
      "2022-01-21 22:03:31,601 loading...\n",
      "2022-01-21 22:03:31,604 done loading.\n",
      "Subjects...: 100%|██████████| 1/1 [00:00<00:00,  2.10it/s]\n",
      "2022-01-21 22:03:32,094 staring training...\n",
      "  0%|          | 0/50 [00:00<?, ?it/s]"
     ]
    }
   ],
   "source": [
    "class CRF(tx.Model[MNISTExample]):\n",
    "    def factors(self, x: MNISTExample) -> Iterable[tx.Factor]:\n",
    "        rows, cols = x.pixels.shape[-2:]\n",
    "        for r in range(rows):\n",
    "            for c in range(cols):\n",
    "                cell = x.pixels[...,r,c]\n",
    "                yield tx.LinearFactor(self.namespace(f'unigram_{r}_{c}'), cell, x.digit)\n",
    "                if r > 0:\n",
    "                    above_cell = x.pixels[...,r-1,c]\n",
    "                    yield tx.LinearFactor(self.namespace(f'bigram_with_above'), cell, above_cell, x.digit)\n",
    "                if c > 0:\n",
    "                    left_cell = x.pixels[...,r,c-1]\n",
    "                    yield tx.LinearFactor(self.namespace(f'bigram_with_left'), cell, left_cell, x.digit)\n",
    "                    # if r > 0:\n",
    "                    #     corner_cell = x.pixels[...,r-1,c-1]\n",
    "                    #     yield tx.LinearFactor(self.namespace(f'corner'), cell, corner_cell, x.digit)\n",
    "                    #         yield tx.LinearFactor(self.namespace(f'position_{r}_{c}'), cell, input=x.digit.tensor)\n",
    "\n",
    "system = tx.learning.example_fit_model(CRF(), subjects['train'], iterations=50, batch_size=n_train, lr=0.5, weight_decay=10.0)\n",
    "for x in batches.values():\n",
    "    x.pixels.clamp_annotated()\n",
    "    \n",
    "predictions = {\n",
    "    name: system.predict(batch)\n",
    "    for name, batch in batches.items()\n",
    "}\n",
    "accuracies = {\n",
    "    name: (batches[name].digit.tensor == predictions[name].digit.tensor).float().mean()\n",
    "    for name in predictions\n",
    "}\n",
    "print(accuracies)\n"
   ]
  }
 ],
 "metadata": {
  "interpreter": {
   "hash": "6ddcf3bc0a5ad9a93d4e85e07e518f58ecae8e832077ac04390c3ad37877f120"
  },
  "kernelspec": {
   "display_name": "Python 3.10.4 ('torchfactors-agsvsqrc-py3.10')",
   "language": "python",
   "name": "python3"
  },
  "language_info": {
   "codemirror_mode": {
    "name": "ipython",
    "version": 3
   },
   "file_extension": ".py",
   "mimetype": "text/x-python",
   "name": "python",
   "nbconvert_exporter": "python",
   "pygments_lexer": "ipython3",
   "version": "3.10.4"
  },
  "orig_nbformat": 4
 },
 "nbformat": 4,
 "nbformat_minor": 2
}
